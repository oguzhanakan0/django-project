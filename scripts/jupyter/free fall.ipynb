{
 "cells": [
  {
   "cell_type": "code",
   "execution_count": 1,
   "metadata": {},
   "outputs": [],
   "source": [
    "import os\n",
    "import pandas as pd"
   ]
  },
  {
   "cell_type": "code",
   "execution_count": 2,
   "metadata": {},
   "outputs": [],
   "source": [
    "os.environ[\"DJANGO_ALLOW_ASYNC_UNSAFE\"] = \"true\""
   ]
  },
  {
   "cell_type": "code",
   "execution_count": 3,
   "metadata": {},
   "outputs": [],
   "source": [
    "from loans.views import *"
   ]
  },
  {
   "cell_type": "code",
   "execution_count": 10,
   "metadata": {},
   "outputs": [],
   "source": [
    "tenure = 12\n",
    "principal = 52000\n",
    "slug = 'A'\n",
    "loan = Loan.objects.filter(tenure__gte=tenure,principal__gte=principal,slug=slug).order_by('tenure','principal').first()"
   ]
  },
  {
   "cell_type": "code",
   "execution_count": 15,
   "metadata": {},
   "outputs": [
    {
     "data": {
      "text/plain": [
       "[<Tenure: 3>,\n",
       " <Tenure: 12>,\n",
       " <Tenure: 6>,\n",
       " <Tenure: 0>,\n",
       " <Tenure: 60>,\n",
       " <Tenure: 24>]"
      ]
     },
     "execution_count": 15,
     "metadata": {},
     "output_type": "execute_result"
    }
   ],
   "source": [
    "list(LoanType.objects.get(loan_type='GPL').tenures.all())"
   ]
  },
  {
   "cell_type": "code",
   "execution_count": 7,
   "metadata": {},
   "outputs": [],
   "source": [
    "loan = calculate_loan_details(Loan.objects.get(id='f5b4bd40-b865-11ea-be78-d0c63746edcc'), 30000, 9)"
   ]
  },
  {
   "cell_type": "code",
   "execution_count": 18,
   "metadata": {},
   "outputs": [],
   "source": [
    "flt = Loan.objects.filter(tenure__gte=3,principal__lte=100000,slug='ing-ihtiyac-kredisi').order_by('tenure','principal')"
   ]
  },
  {
   "cell_type": "code",
   "execution_count": 9,
   "metadata": {},
   "outputs": [],
   "source": [
    "tenure_ids = Loan.objects.filter(slug=\"is-bankasi-acil\").values_list('tenure', flat=True)\n",
    "tenures = Tenure.objects.filter(tenure__in=set(tenure_ids))"
   ]
  },
  {
   "cell_type": "code",
   "execution_count": 11,
   "metadata": {},
   "outputs": [
    {
     "data": {
      "text/plain": [
       "<QuerySet [<Tenure: 3>]>"
      ]
     },
     "execution_count": 11,
     "metadata": {},
     "output_type": "execute_result"
    }
   ],
   "source": []
  },
  {
   "cell_type": "code",
   "execution_count": 32,
   "metadata": {},
   "outputs": [],
   "source": [
    "from django.db.models import Min, Max"
   ]
  },
  {
   "cell_type": "code",
   "execution_count": 35,
   "metadata": {},
   "outputs": [],
   "source": [
    "a = Loan.objects.filter(loan_type='GPL').aggregate(Min('principal'),Max('principal'))"
   ]
  },
  {
   "cell_type": "code",
   "execution_count": 39,
   "metadata": {},
   "outputs": [],
   "source": [
    "import json"
   ]
  },
  {
   "cell_type": "code",
   "execution_count": 40,
   "metadata": {},
   "outputs": [
    {
     "data": {
      "text/plain": [
       "'{\"principal__min\": 0, \"principal__max\": 100000}'"
      ]
     },
     "execution_count": 40,
     "metadata": {},
     "output_type": "execute_result"
    }
   ],
   "source": [
    "json.dumps(a)e"
   ]
  },
  {
   "cell_type": "code",
   "execution_count": 20,
   "metadata": {},
   "outputs": [
    {
     "data": {
      "text/html": [
       "<div>\n",
       "<style scoped>\n",
       "    .dataframe tbody tr th:only-of-type {\n",
       "        vertical-align: middle;\n",
       "    }\n",
       "\n",
       "    .dataframe tbody tr th {\n",
       "        vertical-align: top;\n",
       "    }\n",
       "\n",
       "    .dataframe thead th {\n",
       "        text-align: right;\n",
       "    }\n",
       "</style>\n",
       "<table border=\"1\" class=\"dataframe\">\n",
       "  <thead>\n",
       "    <tr style=\"text-align: right;\">\n",
       "      <th></th>\n",
       "      <th>active</th>\n",
       "      <th>bank_id</th>\n",
       "      <th>description</th>\n",
       "      <th>id</th>\n",
       "      <th>interest</th>\n",
       "      <th>loan_type_id</th>\n",
       "      <th>name</th>\n",
       "      <th>principal_id</th>\n",
       "      <th>slug</th>\n",
       "      <th>tenure_id</th>\n",
       "      <th>upd_program_id</th>\n",
       "      <th>upd_time</th>\n",
       "      <th>upd_user_id</th>\n",
       "    </tr>\n",
       "  </thead>\n",
       "  <tbody>\n",
       "    <tr>\n",
       "      <th>0</th>\n",
       "      <td>True</td>\n",
       "      <td>ING Bank</td>\n",
       "      <td>ing ihtiyaç kredisi</td>\n",
       "      <td>14a0b47a-c111-11ea-b02d-d0c63746edcc</td>\n",
       "      <td>0.0096</td>\n",
       "      <td>GPL</td>\n",
       "      <td>İhtiyaç Kredisi</td>\n",
       "      <td>50000</td>\n",
       "      <td>ing-ihtiyac-kredisi</td>\n",
       "      <td>3</td>\n",
       "      <td>django_admin_panel</td>\n",
       "      <td>2020-07-08 11:49:29.316251+00:00</td>\n",
       "      <td>admin</td>\n",
       "    </tr>\n",
       "    <tr>\n",
       "      <th>1</th>\n",
       "      <td>True</td>\n",
       "      <td>ING Bank</td>\n",
       "      <td>ihtiyaç</td>\n",
       "      <td>a6fcaa6e-c5b7-11ea-a01b-d0c63746edcc</td>\n",
       "      <td>0.0054</td>\n",
       "      <td>GPL</td>\n",
       "      <td>ING İhtiyaç KREDİ</td>\n",
       "      <td>100000</td>\n",
       "      <td>ing-ihtiyac-kredisi</td>\n",
       "      <td>6</td>\n",
       "      <td>django_admin_panel</td>\n",
       "      <td>2020-07-14 09:51:55.971505+00:00</td>\n",
       "      <td>admin</td>\n",
       "    </tr>\n",
       "  </tbody>\n",
       "</table>\n",
       "</div>"
      ],
      "text/plain": [
       "   active   bank_id          description  \\\n",
       "0    True  ING Bank  ing ihtiyaç kredisi   \n",
       "1    True  ING Bank              ihtiyaç   \n",
       "\n",
       "                                     id  interest loan_type_id  \\\n",
       "0  14a0b47a-c111-11ea-b02d-d0c63746edcc    0.0096          GPL   \n",
       "1  a6fcaa6e-c5b7-11ea-a01b-d0c63746edcc    0.0054          GPL   \n",
       "\n",
       "                name  principal_id                 slug  tenure_id  \\\n",
       "0    İhtiyaç Kredisi         50000  ing-ihtiyac-kredisi          3   \n",
       "1  ING İhtiyaç KREDİ        100000  ing-ihtiyac-kredisi          6   \n",
       "\n",
       "       upd_program_id                         upd_time upd_user_id  \n",
       "0  django_admin_panel 2020-07-08 11:49:29.316251+00:00       admin  \n",
       "1  django_admin_panel 2020-07-14 09:51:55.971505+00:00       admin  "
      ]
     },
     "execution_count": 20,
     "metadata": {},
     "output_type": "execute_result"
    }
   ],
   "source": [
    "pd.DataFrame(flt.values())"
   ]
  },
  {
   "cell_type": "code",
   "execution_count": 15,
   "metadata": {},
   "outputs": [
    {
     "data": {
      "text/plain": [
       "<Principal: 100000>"
      ]
     },
     "execution_count": 15,
     "metadata": {},
     "output_type": "execute_result"
    }
   ],
   "source": [
    "flt.principal"
   ]
  },
  {
   "cell_type": "code",
   "execution_count": 9,
   "metadata": {},
   "outputs": [
    {
     "data": {
      "text/plain": [
       "3"
      ]
     },
     "execution_count": 9,
     "metadata": {},
     "output_type": "execute_result"
    }
   ],
   "source": [
    "loan.tenure.tenure"
   ]
  },
  {
   "cell_type": "code",
   "execution_count": 10,
   "metadata": {},
   "outputs": [
    {
     "data": {
      "text/plain": [
       "30000"
      ]
     },
     "execution_count": 10,
     "metadata": {},
     "output_type": "execute_result"
    }
   ],
   "source": [
    "loan.principal.principal"
   ]
  },
  {
   "cell_type": "code",
   "execution_count": 1,
   "metadata": {},
   "outputs": [],
   "source": [
    "from scripts.py.payment_plan import payment_plan"
   ]
  },
  {
   "cell_type": "code",
   "execution_count": 17,
   "metadata": {},
   "outputs": [
    {
     "data": {
      "text/plain": [
       "'0.86%'"
      ]
     },
     "execution_count": 17,
     "metadata": {},
     "output_type": "execute_result"
    }
   ],
   "source": [
    "loan.interest"
   ]
  },
  {
   "cell_type": "code",
   "execution_count": 3,
   "metadata": {},
   "outputs": [],
   "source": [
    "from babel.numbers import format_currency"
   ]
  },
  {
   "cell_type": "code",
   "execution_count": 11,
   "metadata": {},
   "outputs": [
    {
     "data": {
      "text/plain": [
       "'2.434.235'"
      ]
     },
     "execution_count": 11,
     "metadata": {},
     "output_type": "execute_result"
    }
   ],
   "source": [
    "format_currency(2434235, 'TRY', u'#,##0 ¤', locale='tr_TR').split(',')[0]"
   ]
  },
  {
   "cell_type": "code",
   "execution_count": 8,
   "metadata": {},
   "outputs": [],
   "source": [
    "blogs = BlogPage.objects.all()"
   ]
  },
  {
   "cell_type": "code",
   "execution_count": 9,
   "metadata": {},
   "outputs": [],
   "source": [
    "blogs_df = pd.DataFrame(list(BlogPage.objects.all().values()))"
   ]
  },
  {
   "cell_type": "code",
   "execution_count": 45,
   "metadata": {},
   "outputs": [],
   "source": [
    "def payment_plan(amount, maturity, interest, bsmv, kkdf):\n",
    "    total_interest = interest + interest * kkdf + interest * bsmv\n",
    "    monthly_payment = (total_interest * amount) / (1 - (1 + total_interest) ** (-1 * maturity))\n",
    "    payment_plan = pd.DataFrame(index=range(maturity), columns=['month','monthly_pay','principal_before','principal_paid','interest_paid','kkdf','bsmv','principal_left'])\n",
    "\n",
    "    for i in range(maturity):\n",
    "        if i == 0:\n",
    "            principal_before = amount\n",
    "        else:\n",
    "            principal_before = payment_plan.loc[i-1, 'principal_left']\n",
    "\n",
    "        interest_paid = principal_before * interest\n",
    "        kkdf_paid = interest_paid * kkdf\n",
    "        bsmv_paid = interest_paid * bsmv\n",
    "        principal_paid = monthly_payment - interest_paid - kkdf_paid - bsmv_paid\n",
    "        principal_left = principal_before - principal_paid\n",
    "\n",
    "        payment_plan.loc[i] = [i+1,monthly_payment, principal_before, principal_paid, interest_paid, kkdf_paid, bsmv_paid, principal_left]\n",
    "        payment_plan = payment_plan.astype('float')\n",
    "\n",
    "    payment_plan.drop('principal_before', axis=1, inplace=True)\n",
    "    payment_plan = payment_plan.round(0)\n",
    "    payment_plan.iloc[-1,-1]=0\n",
    "    payment_plan.columns=['Ay','Taksit','Anapara','Faiz','KKDF','BSMV','Kalan Ödeme']\n",
    "    return payment_plan\n"
   ]
  },
  {
   "cell_type": "code",
   "execution_count": 46,
   "metadata": {},
   "outputs": [],
   "source": [
    "df = payment_plan(30000,30,0.003,0.005,0.005)"
   ]
  },
  {
   "cell_type": "code",
   "execution_count": 52,
   "metadata": {},
   "outputs": [
    {
     "data": {
      "text/plain": [
       "30"
      ]
     },
     "execution_count": 52,
     "metadata": {},
     "output_type": "execute_result"
    }
   ],
   "source": [
    "df.shape[0]"
   ]
  },
  {
   "cell_type": "code",
   "execution_count": 48,
   "metadata": {
    "collapsed": true
   },
   "outputs": [
    {
     "name": "stdout",
     "output_type": "stream",
     "text": [
      "i: 0\n",
      "j: Ay                 1.0\n",
      "Taksit          1048.0\n",
      "Anapara          957.0\n",
      "Faiz              90.0\n",
      "KKDF               0.0\n",
      "BSMV               0.0\n",
      "Kalan Ödeme    29043.0\n",
      "Name: 0, dtype: float64\n",
      "----\n",
      "i: 1\n",
      "j: Ay                 2.0\n",
      "Taksit          1048.0\n",
      "Anapara          960.0\n",
      "Faiz              87.0\n",
      "KKDF               0.0\n",
      "BSMV               0.0\n",
      "Kalan Ödeme    28084.0\n",
      "Name: 1, dtype: float64\n",
      "----\n",
      "i: 2\n",
      "j: Ay                 3.0\n",
      "Taksit          1048.0\n",
      "Anapara          963.0\n",
      "Faiz              84.0\n",
      "KKDF               0.0\n",
      "BSMV               0.0\n",
      "Kalan Ödeme    27121.0\n",
      "Name: 2, dtype: float64\n",
      "----\n",
      "i: 3\n",
      "j: Ay                 4.0\n",
      "Taksit          1048.0\n",
      "Anapara          965.0\n",
      "Faiz              81.0\n",
      "KKDF               0.0\n",
      "BSMV               0.0\n",
      "Kalan Ödeme    26156.0\n",
      "Name: 3, dtype: float64\n",
      "----\n",
      "i: 4\n",
      "j: Ay                 5.0\n",
      "Taksit          1048.0\n",
      "Anapara          968.0\n",
      "Faiz              78.0\n",
      "KKDF               0.0\n",
      "BSMV               0.0\n",
      "Kalan Ödeme    25187.0\n",
      "Name: 4, dtype: float64\n",
      "----\n",
      "i: 5\n",
      "j: Ay                 6.0\n",
      "Taksit          1048.0\n",
      "Anapara          971.0\n",
      "Faiz              76.0\n",
      "KKDF               0.0\n",
      "BSMV               0.0\n",
      "Kalan Ödeme    24216.0\n",
      "Name: 5, dtype: float64\n",
      "----\n",
      "i: 6\n",
      "j: Ay                 7.0\n",
      "Taksit          1048.0\n",
      "Anapara          974.0\n",
      "Faiz              73.0\n",
      "KKDF               0.0\n",
      "BSMV               0.0\n",
      "Kalan Ödeme    23242.0\n",
      "Name: 6, dtype: float64\n",
      "----\n",
      "i: 7\n",
      "j: Ay                 8.0\n",
      "Taksit          1048.0\n",
      "Anapara          977.0\n",
      "Faiz              70.0\n",
      "KKDF               0.0\n",
      "BSMV               0.0\n",
      "Kalan Ödeme    22264.0\n",
      "Name: 7, dtype: float64\n",
      "----\n",
      "i: 8\n",
      "j: Ay                 9.0\n",
      "Taksit          1048.0\n",
      "Anapara          980.0\n",
      "Faiz              67.0\n",
      "KKDF               0.0\n",
      "BSMV               0.0\n",
      "Kalan Ödeme    21284.0\n",
      "Name: 8, dtype: float64\n",
      "----\n",
      "i: 9\n",
      "j: Ay                10.0\n",
      "Taksit          1048.0\n",
      "Anapara          983.0\n",
      "Faiz              64.0\n",
      "KKDF               0.0\n",
      "BSMV               0.0\n",
      "Kalan Ödeme    20301.0\n",
      "Name: 9, dtype: float64\n",
      "----\n",
      "i: 10\n",
      "j: Ay                11.0\n",
      "Taksit          1048.0\n",
      "Anapara          986.0\n",
      "Faiz              61.0\n",
      "KKDF               0.0\n",
      "BSMV               0.0\n",
      "Kalan Ödeme    19315.0\n",
      "Name: 10, dtype: float64\n",
      "----\n",
      "i: 11\n",
      "j: Ay                12.0\n",
      "Taksit          1048.0\n",
      "Anapara          989.0\n",
      "Faiz              58.0\n",
      "KKDF               0.0\n",
      "BSMV               0.0\n",
      "Kalan Ödeme    18326.0\n",
      "Name: 11, dtype: float64\n",
      "----\n",
      "i: 12\n",
      "j: Ay                13.0\n",
      "Taksit          1048.0\n",
      "Anapara          992.0\n",
      "Faiz              55.0\n",
      "KKDF               0.0\n",
      "BSMV               0.0\n",
      "Kalan Ödeme    17334.0\n",
      "Name: 12, dtype: float64\n",
      "----\n",
      "i: 13\n",
      "j: Ay                14.0\n",
      "Taksit          1048.0\n",
      "Anapara          995.0\n",
      "Faiz              52.0\n",
      "KKDF               0.0\n",
      "BSMV               0.0\n",
      "Kalan Ödeme    16338.0\n",
      "Name: 13, dtype: float64\n",
      "----\n",
      "i: 14\n",
      "j: Ay                15.0\n",
      "Taksit          1048.0\n",
      "Anapara          998.0\n",
      "Faiz              49.0\n",
      "KKDF               0.0\n",
      "BSMV               0.0\n",
      "Kalan Ödeme    15340.0\n",
      "Name: 14, dtype: float64\n",
      "----\n",
      "i: 15\n",
      "j: Ay                16.0\n",
      "Taksit          1048.0\n",
      "Anapara         1001.0\n",
      "Faiz              46.0\n",
      "KKDF               0.0\n",
      "BSMV               0.0\n",
      "Kalan Ödeme    14339.0\n",
      "Name: 15, dtype: float64\n",
      "----\n",
      "i: 16\n",
      "j: Ay                17.0\n",
      "Taksit          1048.0\n",
      "Anapara         1004.0\n",
      "Faiz              43.0\n",
      "KKDF               0.0\n",
      "BSMV               0.0\n",
      "Kalan Ödeme    13335.0\n",
      "Name: 16, dtype: float64\n",
      "----\n",
      "i: 17\n",
      "j: Ay                18.0\n",
      "Taksit          1048.0\n",
      "Anapara         1007.0\n",
      "Faiz              40.0\n",
      "KKDF               0.0\n",
      "BSMV               0.0\n",
      "Kalan Ödeme    12328.0\n",
      "Name: 17, dtype: float64\n",
      "----\n",
      "i: 18\n",
      "j: Ay                19.0\n",
      "Taksit          1048.0\n",
      "Anapara         1010.0\n",
      "Faiz              37.0\n",
      "KKDF               0.0\n",
      "BSMV               0.0\n",
      "Kalan Ödeme    11317.0\n",
      "Name: 18, dtype: float64\n",
      "----\n",
      "i: 19\n",
      "j: Ay                20.0\n",
      "Taksit          1048.0\n",
      "Anapara         1013.0\n",
      "Faiz              34.0\n",
      "KKDF               0.0\n",
      "BSMV               0.0\n",
      "Kalan Ödeme    10304.0\n",
      "Name: 19, dtype: float64\n",
      "----\n",
      "i: 20\n",
      "j: Ay               21.0\n",
      "Taksit         1048.0\n",
      "Anapara        1016.0\n",
      "Faiz             31.0\n",
      "KKDF              0.0\n",
      "BSMV              0.0\n",
      "Kalan Ödeme    9288.0\n",
      "Name: 20, dtype: float64\n",
      "----\n",
      "i: 21\n",
      "j: Ay               22.0\n",
      "Taksit         1048.0\n",
      "Anapara        1020.0\n",
      "Faiz             28.0\n",
      "KKDF              0.0\n",
      "BSMV              0.0\n",
      "Kalan Ödeme    8268.0\n",
      "Name: 21, dtype: float64\n",
      "----\n",
      "i: 22\n",
      "j: Ay               23.0\n",
      "Taksit         1048.0\n",
      "Anapara        1023.0\n",
      "Faiz             25.0\n",
      "KKDF              0.0\n",
      "BSMV              0.0\n",
      "Kalan Ödeme    7245.0\n",
      "Name: 22, dtype: float64\n",
      "----\n",
      "i: 23\n",
      "j: Ay               24.0\n",
      "Taksit         1048.0\n",
      "Anapara        1026.0\n",
      "Faiz             22.0\n",
      "KKDF              0.0\n",
      "BSMV              0.0\n",
      "Kalan Ödeme    6220.0\n",
      "Name: 23, dtype: float64\n",
      "----\n",
      "i: 24\n",
      "j: Ay               25.0\n",
      "Taksit         1048.0\n",
      "Anapara        1029.0\n",
      "Faiz             19.0\n",
      "KKDF              0.0\n",
      "BSMV              0.0\n",
      "Kalan Ödeme    5191.0\n",
      "Name: 24, dtype: float64\n",
      "----\n",
      "i: 25\n",
      "j: Ay               26.0\n",
      "Taksit         1048.0\n",
      "Anapara        1032.0\n",
      "Faiz             16.0\n",
      "KKDF              0.0\n",
      "BSMV              0.0\n",
      "Kalan Ödeme    4159.0\n",
      "Name: 25, dtype: float64\n",
      "----\n",
      "i: 26\n",
      "j: Ay               27.0\n",
      "Taksit         1048.0\n",
      "Anapara        1035.0\n",
      "Faiz             12.0\n",
      "KKDF              0.0\n",
      "BSMV              0.0\n",
      "Kalan Ödeme    3124.0\n",
      "Name: 26, dtype: float64\n",
      "----\n",
      "i: 27\n",
      "j: Ay               28.0\n",
      "Taksit         1048.0\n",
      "Anapara        1038.0\n",
      "Faiz              9.0\n",
      "KKDF              0.0\n",
      "BSMV              0.0\n",
      "Kalan Ödeme    2086.0\n",
      "Name: 27, dtype: float64\n",
      "----\n",
      "i: 28\n",
      "j: Ay               29.0\n",
      "Taksit         1048.0\n",
      "Anapara        1041.0\n",
      "Faiz              6.0\n",
      "KKDF              0.0\n",
      "BSMV              0.0\n",
      "Kalan Ödeme    1044.0\n",
      "Name: 28, dtype: float64\n",
      "----\n",
      "i: 29\n",
      "j: Ay               30.0\n",
      "Taksit         1048.0\n",
      "Anapara        1044.0\n",
      "Faiz              3.0\n",
      "KKDF              0.0\n",
      "BSMV              0.0\n",
      "Kalan Ödeme       0.0\n",
      "Name: 29, dtype: float64\n",
      "----\n"
     ]
    }
   ],
   "source": [
    "for i, j in df.iterrows():\n",
    "    print(\"i: \"+str(i))\n",
    "    print(\"j: \"+str(j))\n",
    "    print(\"----\")"
   ]
  },
  {
   "cell_type": "code",
   "execution_count": 50,
   "metadata": {
    "scrolled": true
   },
   "outputs": [
    {
     "data": {
      "text/plain": [
       "30"
      ]
     },
     "execution_count": 50,
     "metadata": {},
     "output_type": "execute_result"
    }
   ],
   "source": [
    "len(df.index)"
   ]
  },
  {
   "cell_type": "code",
   "execution_count": 8,
   "metadata": {},
   "outputs": [],
   "source": [
    "from datetime import datetime as dtm\n",
    "from datetime import date as dt\n",
    "from datetime import timedelta"
   ]
  },
  {
   "cell_type": "code",
   "execution_count": 11,
   "metadata": {},
   "outputs": [
    {
     "data": {
      "text/plain": [
       "datetime.date(2020, 8, 10)"
      ]
     },
     "execution_count": 11,
     "metadata": {},
     "output_type": "execute_result"
    }
   ],
   "source": [
    "dt.today()+timedelta(days=-1)"
   ]
  },
  {
   "cell_type": "code",
   "execution_count": 5,
   "metadata": {},
   "outputs": [
    {
     "data": {
      "text/plain": [
       "0"
      ]
     },
     "execution_count": 5,
     "metadata": {},
     "output_type": "execute_result"
    }
   ],
   "source": [
    "dt.today() if dtm.now().hour>5 else dt.today()+timedelta(days=-1)"
   ]
  }
 ],
 "metadata": {
  "kernelspec": {
   "display_name": "Django Shell-Plus",
   "language": "python",
   "name": "django_extensions"
  },
  "language_info": {
   "codemirror_mode": {
    "name": "ipython",
    "version": 3
   },
   "file_extension": ".py",
   "mimetype": "text/x-python",
   "name": "python",
   "nbconvert_exporter": "python",
   "pygments_lexer": "ipython3",
   "version": "3.7.3"
  }
 },
 "nbformat": 4,
 "nbformat_minor": 2
}
