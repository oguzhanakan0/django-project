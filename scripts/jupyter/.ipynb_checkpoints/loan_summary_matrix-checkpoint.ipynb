{
 "cells": [
  {
   "cell_type": "markdown",
   "metadata": {},
   "source": [
    "# Loan Matrix Table Routine"
   ]
  },
  {
   "cell_type": "markdown",
   "metadata": {},
   "source": [
    "#### This script runs everyday and inserts summary of loans_loan table into loans_loanmatrix table."
   ]
  },
  {
   "cell_type": "code",
   "execution_count": 1,
   "metadata": {},
   "outputs": [],
   "source": [
    "import os\n",
    "import pandas as pd\n",
    "os.environ[\"DJANGO_ALLOW_ASYNC_UNSAFE\"] = \"true\""
   ]
  },
  {
   "cell_type": "code",
   "execution_count": 2,
   "metadata": {},
   "outputs": [
    {
     "name": "stdout",
     "output_type": "stream",
     "text": [
      "saved for loan_type: İhtiyaç Kredisi - tenure: 3 - principal: 5000\n",
      "saved for loan_type: İhtiyaç Kredisi - tenure: 3 - principal: 10000\n",
      "saved for loan_type: İhtiyaç Kredisi - tenure: 3 - principal: 20000\n",
      "saved for loan_type: İhtiyaç Kredisi - tenure: 3 - principal: 30000\n",
      "saved for loan_type: İhtiyaç Kredisi - tenure: 3 - principal: 40000\n",
      "saved for loan_type: İhtiyaç Kredisi - tenure: 3 - principal: 50000\n",
      "saved for loan_type: İhtiyaç Kredisi - tenure: 3 - principal: 60000\n",
      "saved for loan_type: İhtiyaç Kredisi - tenure: 3 - principal: 100000\n",
      "saved for loan_type: İhtiyaç Kredisi - tenure: 6 - principal: 5000\n",
      "saved for loan_type: İhtiyaç Kredisi - tenure: 6 - principal: 10000\n",
      "saved for loan_type: İhtiyaç Kredisi - tenure: 6 - principal: 20000\n",
      "saved for loan_type: İhtiyaç Kredisi - tenure: 6 - principal: 30000\n",
      "saved for loan_type: İhtiyaç Kredisi - tenure: 6 - principal: 40000\n",
      "saved for loan_type: İhtiyaç Kredisi - tenure: 6 - principal: 50000\n",
      "saved for loan_type: İhtiyaç Kredisi - tenure: 6 - principal: 60000\n",
      "saved for loan_type: İhtiyaç Kredisi - tenure: 6 - principal: 100000\n",
      "saved for loan_type: İhtiyaç Kredisi - tenure: 12 - principal: 5000\n",
      "saved for loan_type: İhtiyaç Kredisi - tenure: 12 - principal: 10000\n",
      "saved for loan_type: İhtiyaç Kredisi - tenure: 12 - principal: 20000\n",
      "saved for loan_type: İhtiyaç Kredisi - tenure: 12 - principal: 30000\n",
      "saved for loan_type: İhtiyaç Kredisi - tenure: 12 - principal: 40000\n",
      "saved for loan_type: İhtiyaç Kredisi - tenure: 12 - principal: 50000\n",
      "saved for loan_type: İhtiyaç Kredisi - tenure: 12 - principal: 60000\n",
      "saved for loan_type: İhtiyaç Kredisi - tenure: 12 - principal: 100000\n",
      "saved for loan_type: İhtiyaç Kredisi - tenure: 24 - principal: 5000\n",
      "saved for loan_type: İhtiyaç Kredisi - tenure: 24 - principal: 10000\n",
      "saved for loan_type: İhtiyaç Kredisi - tenure: 24 - principal: 20000\n",
      "saved for loan_type: İhtiyaç Kredisi - tenure: 24 - principal: 30000\n",
      "saved for loan_type: İhtiyaç Kredisi - tenure: 24 - principal: 40000\n",
      "saved for loan_type: İhtiyaç Kredisi - tenure: 24 - principal: 50000\n",
      "saved for loan_type: İhtiyaç Kredisi - tenure: 24 - principal: 60000\n",
      "saved for loan_type: İhtiyaç Kredisi - tenure: 24 - principal: 100000\n",
      "saved for loan_type: İhtiyaç Kredisi - tenure: 60 - principal: 5000\n",
      "saved for loan_type: İhtiyaç Kredisi - tenure: 60 - principal: 10000\n",
      "saved for loan_type: İhtiyaç Kredisi - tenure: 60 - principal: 20000\n",
      "saved for loan_type: İhtiyaç Kredisi - tenure: 60 - principal: 30000\n",
      "saved for loan_type: İhtiyaç Kredisi - tenure: 60 - principal: 40000\n",
      "saved for loan_type: İhtiyaç Kredisi - tenure: 60 - principal: 50000\n",
      "saved for loan_type: İhtiyaç Kredisi - tenure: 60 - principal: 60000\n",
      "saved for loan_type: İhtiyaç Kredisi - tenure: 60 - principal: 100000\n",
      "saved for loan_type: Konut Kredisi - tenure: 3 - principal: 50000\n",
      "saved for loan_type: Konut Kredisi - tenure: 3 - principal: 100000\n",
      "saved for loan_type: Konut Kredisi - tenure: 3 - principal: 150000\n",
      "saved for loan_type: Konut Kredisi - tenure: 3 - principal: 200000\n",
      "saved for loan_type: Konut Kredisi - tenure: 6 - principal: 50000\n",
      "saved for loan_type: Konut Kredisi - tenure: 6 - principal: 100000\n",
      "saved for loan_type: Konut Kredisi - tenure: 6 - principal: 150000\n",
      "saved for loan_type: Konut Kredisi - tenure: 6 - principal: 200000\n",
      "saved for loan_type: Konut Kredisi - tenure: 12 - principal: 50000\n",
      "saved for loan_type: Konut Kredisi - tenure: 12 - principal: 100000\n",
      "saved for loan_type: Konut Kredisi - tenure: 12 - principal: 150000\n",
      "saved for loan_type: Konut Kredisi - tenure: 12 - principal: 200000\n",
      "saved for loan_type: Konut Kredisi - tenure: 24 - principal: 50000\n",
      "saved for loan_type: Konut Kredisi - tenure: 24 - principal: 100000\n",
      "saved for loan_type: Konut Kredisi - tenure: 24 - principal: 150000\n",
      "saved for loan_type: Konut Kredisi - tenure: 24 - principal: 200000\n",
      "saved for loan_type: Konut Kredisi - tenure: 60 - principal: 50000\n",
      "saved for loan_type: Konut Kredisi - tenure: 60 - principal: 100000\n",
      "saved for loan_type: Konut Kredisi - tenure: 60 - principal: 150000\n",
      "saved for loan_type: Konut Kredisi - tenure: 60 - principal: 200000\n",
      "saved for loan_type: Taşıt Kredisi 0 Km - tenure: 12 - principal: 50000\n",
      "saved for loan_type: Taşıt Kredisi 0 Km - tenure: 12 - principal: 60000\n",
      "saved for loan_type: Taşıt Kredisi 0 Km - tenure: 12 - principal: 100000\n",
      "saved for loan_type: Taşıt Kredisi 0 Km - tenure: 12 - principal: 150000\n",
      "saved for loan_type: Taşıt Kredisi 0 Km - tenure: 12 - principal: 200000\n",
      "saved for loan_type: Taşıt Kredisi 0 Km - tenure: 24 - principal: 50000\n",
      "saved for loan_type: Taşıt Kredisi 0 Km - tenure: 24 - principal: 60000\n",
      "saved for loan_type: Taşıt Kredisi 0 Km - tenure: 24 - principal: 100000\n",
      "saved for loan_type: Taşıt Kredisi 0 Km - tenure: 24 - principal: 150000\n",
      "saved for loan_type: Taşıt Kredisi 0 Km - tenure: 24 - principal: 200000\n",
      "saved for loan_type: Taşıt Kredisi 0 Km - tenure: 60 - principal: 50000\n",
      "saved for loan_type: Taşıt Kredisi 0 Km - tenure: 60 - principal: 60000\n",
      "saved for loan_type: Taşıt Kredisi 0 Km - tenure: 60 - principal: 100000\n",
      "saved for loan_type: Taşıt Kredisi 0 Km - tenure: 60 - principal: 150000\n",
      "saved for loan_type: Taşıt Kredisi 0 Km - tenure: 60 - principal: 200000\n",
      "saved for loan_type: Taşıt Kredisi 2. El - tenure: 12 - principal: 50000\n",
      "saved for loan_type: Taşıt Kredisi 2. El - tenure: 12 - principal: 60000\n",
      "saved for loan_type: Taşıt Kredisi 2. El - tenure: 12 - principal: 100000\n",
      "saved for loan_type: Taşıt Kredisi 2. El - tenure: 12 - principal: 150000\n",
      "saved for loan_type: Taşıt Kredisi 2. El - tenure: 12 - principal: 200000\n",
      "saved for loan_type: Taşıt Kredisi 2. El - tenure: 24 - principal: 50000\n",
      "saved for loan_type: Taşıt Kredisi 2. El - tenure: 24 - principal: 60000\n",
      "saved for loan_type: Taşıt Kredisi 2. El - tenure: 24 - principal: 100000\n",
      "saved for loan_type: Taşıt Kredisi 2. El - tenure: 24 - principal: 150000\n",
      "saved for loan_type: Taşıt Kredisi 2. El - tenure: 24 - principal: 200000\n",
      "saved for loan_type: Taşıt Kredisi 2. El - tenure: 60 - principal: 50000\n",
      "saved for loan_type: Taşıt Kredisi 2. El - tenure: 60 - principal: 60000\n",
      "saved for loan_type: Taşıt Kredisi 2. El - tenure: 60 - principal: 100000\n",
      "saved for loan_type: Taşıt Kredisi 2. El - tenure: 60 - principal: 150000\n",
      "saved for loan_type: Taşıt Kredisi 2. El - tenure: 60 - principal: 200000\n"
     ]
    }
   ],
   "source": [
    "matrices = [] # unused, may be used for debugging\n",
    "# 1. Get all loan types.\n",
    "loan_types = LoanType.objects.all()\n",
    "# 2. For each loan type;\n",
    "for loan_type in loan_types:\n",
    "    # 2.1. Get all possible tenures..\n",
    "    tenures = loan_type.tenures.all().order_by('tenure').exclude(tenure=0)\n",
    "    # 2.2. .. and principals.\n",
    "    principals = loan_type.principals.all().order_by('principal').exclude(principal=0)\n",
    "    dmatrix = dict()\n",
    "    # 2.3. For each tenure;\n",
    "    for tenure in tenures:\n",
    "        dmatrix[tenure] = dict()\n",
    "        # 2.3.1. For each principal;\n",
    "        for principal in principals:\n",
    "            # 2.3.1.1. Filter loans according to loan_type, tenure, and principal. Here, the important thing is we should bring all\n",
    "            #          banks' loans so that if two of the banks offer same interest, we will not miss it.\n",
    "            loans = list(Loan.objects.filter(tenure__gte=tenure, principal__gte=principal, loan_type=loan_type).order_by('bank_id','interest').distinct('bank_id'))\n",
    "            # 2.3.1.2. Following algorithm determines which loans are with minimum interest rate.\n",
    "            loans_cp = loans.copy()\n",
    "            min_interest = Loan.objects.filter(tenure__gte=tenure, principal__gte=principal, loan_type=loan_type).aggregate(Min('interest'))\n",
    "            # print(\"min interest for tenure: \"+str(tenure.tenure)+\" and principal: \"+str(principal.principal))\n",
    "            # print(min_interest['interest__min'])\n",
    "            if not len(loans)==0:\n",
    "                for loan in loans_cp:\n",
    "                    # print(\"checking \"+str(loan)+\" with interest: \"+str(loan.interest)) \n",
    "                    if loan.interest > min_interest['interest__min']:\n",
    "                        # print(\"loan removed from loans\")\n",
    "                        loans.remove(loan)\n",
    "            dmatrix[tenure][principal] = loans\n",
    "            \n",
    "            \n",
    "            # 2.3.1.3. Create a LoanMatrix object and save it.\n",
    "            lm = LoanMatrix()\n",
    "            lm.loan_type = loan_type\n",
    "            lm.tenure = tenure\n",
    "            lm.principal = principal\n",
    "            lm.min_interest = min_interest['interest__min']\n",
    "            for i in range(1,(len(loans)+1)):\n",
    "                exec(\"lm.loan_\"+str(i)+\"=loans[i-1]\")\n",
    "            lm.save()\n",
    "            print(\"saved for loan_type: \"+str(loan_type)+\" - tenure: \"+str(tenure)+\" - principal: \"+str(principal))\n",
    "            \n",
    "    matrices.append(dmatrix)"
   ]
  },
  {
   "cell_type": "markdown",
   "metadata": {},
   "source": [
    "### Below is for creating *actual* table in html. The model for this called LoanMatrixTable"
   ]
  },
  {
   "cell_type": "code",
   "execution_count": 3,
   "metadata": {},
   "outputs": [],
   "source": [
    "import os\n",
    "import pandas as pd\n",
    "from babel.numbers import format_currency\n",
    "os.environ[\"DJANGO_ALLOW_ASYNC_UNSAFE\"] = \"true\""
   ]
  },
  {
   "cell_type": "code",
   "execution_count": 4,
   "metadata": {},
   "outputs": [],
   "source": [
    "from datetime import date as dt\n",
    "today = dt.today()"
   ]
  },
  {
   "cell_type": "code",
   "execution_count": 5,
   "metadata": {},
   "outputs": [],
   "source": [
    "def generate_thead(tenures_):\n",
    "    def th(value):\n",
    "        return \"\"\"<th class=\"mbr-semibold display-7\">\"\"\"+add_tenure_suffix_plain(value)+\"</th>\"\n",
    "    \n",
    "    return_str = \"\"\n",
    "    return_str += \"\"\"<th class=\"mbr-semibold display-7 border-right\">Tutar \\ Vade</th>\"\"\" # first column\n",
    "    for tenure_ in tenures_:\n",
    "        return_str += th(tenure_)\n",
    "        \n",
    "    return return_str"
   ]
  },
  {
   "cell_type": "code",
   "execution_count": 6,
   "metadata": {},
   "outputs": [],
   "source": [
    "def get_lm_item(principal_,tenure_,loan_matrix_):\n",
    "    res = loan_matrix_.filter(principal=principal_,tenure=tenure_)\n",
    "    if len(res) == 1:\n",
    "        return res[0]\n",
    "    else:\n",
    "        raise TypeError('This is impossible. Please make sure that there is only 1 row for this tenure & principal & loan_type')"
   ]
  },
  {
   "cell_type": "code",
   "execution_count": 7,
   "metadata": {},
   "outputs": [],
   "source": [
    "def generate_tbody(principals_,tenures_,loan_matrix_):\n",
    "    def tr(value):\n",
    "        return \"<tr>\"+str(value)+\"</tr>\"\n",
    "    \n",
    "    def td_index(value):\n",
    "        res = \"\"\"<td class = \"mbr-semibold display-7 border-right\">\"\"\"\n",
    "        res += as_currency_plain_short(value)\n",
    "        res += \"</td>\"\n",
    "        return res\n",
    "    def td_cell(lm_item):\n",
    "        res = \"\"\"<td class = \"display-7 font-weight-bold\">\"\"\"\n",
    "        res += as_percentage(lm_item.min_interest)\n",
    "        res += \" \"\n",
    "        icon_list = [\"\"\"\n",
    "<a href=\"\"><img alt=\"{{ e.bank.name }}\" src=\"/media/\"\"\"+str(e.bank.icon.file)+\"\"\"\" width=\"25\" height=\"25\"></a>\n",
    "\"\"\" for e in [lm_item.loan_1, lm_item.loan_2, lm_item.loan_3] if e!=None ]\n",
    "        res += \" \".join(icon_list)\n",
    "        res += \"</td>\"\n",
    "        return res\n",
    "    \n",
    "    res = \"\"\n",
    "    for principal_ in principals_:\n",
    "        this_row = \"\"\n",
    "        this_row += td_index(principal_)\n",
    "        for tenure_ in tenures_:\n",
    "            lm_item = get_lm_item(principal_,tenure_,loan_matrix_)\n",
    "            this_row += td_cell(lm_item)\n",
    "        res += tr(this_row)\n",
    "    return res"
   ]
  },
  {
   "cell_type": "code",
   "execution_count": 8,
   "metadata": {},
   "outputs": [],
   "source": [
    "def as_percentage(value):\n",
    "    try:\n",
    "        return \"%{:.2f}\".format(value).replace('.',',')\n",
    "    except:\n",
    "        return \"-\""
   ]
  },
  {
   "cell_type": "code",
   "execution_count": 9,
   "metadata": {},
   "outputs": [],
   "source": [
    "def as_currency_plain_short(value):\n",
    "    try:\n",
    "        return format_currency(int(value), 'TRY', u'#,##0', locale='tr_TR').split(',')[0]\n",
    "    except:\n",
    "        return \"-\""
   ]
  },
  {
   "cell_type": "code",
   "execution_count": 10,
   "metadata": {},
   "outputs": [],
   "source": [
    "def add_tenure_suffix_plain(value):\n",
    "    return str(int(value)) + \" ay\""
   ]
  },
  {
   "cell_type": "code",
   "execution_count": 11,
   "metadata": {},
   "outputs": [
    {
     "name": "stdout",
     "output_type": "stream",
     "text": [
      "saved for İhtiyaç Kredisi\n",
      "saved for Konut Kredisi\n",
      "saved for Taşıt Kredisi 0 Km\n",
      "saved for Taşıt Kredisi 2. El\n"
     ]
    }
   ],
   "source": [
    "loan_types = LoanType.objects.all()\n",
    "for loan_type in loan_types:\n",
    "    loan_matrix_ = LoanMatrix.objects.filter(date=today,loan_type=loan_type)\n",
    "    tenures_ = loan_matrix_.values_list('tenure', flat=True).distinct().order_by('tenure')\n",
    "    principals_ = loan_matrix_.values_list('principal', flat=True).distinct().order_by('principal')\n",
    "\n",
    "    html_string = \"\"\n",
    "    html_string += \"\"\"<table class=\"table align-center\" id = loan_matrix_\"\"\"+str(loan_type)+\">\"\n",
    "    html_string += \"\"\"<thead>\"\"\"\n",
    "    html_string += generate_thead(tenures_)\n",
    "    html_string += \"\"\"</thead>\"\"\"\n",
    "    html_string += \"\"\"<tbody>\"\"\"\n",
    "    html_string += generate_tbody(principals_,tenures_,loan_matrix_)\n",
    "    html_string += \"</tbody></table>\"\n",
    "\n",
    "    lmt = LoanMatrixTable()\n",
    "    lmt.loan_type = loan_type\n",
    "    lmt.table_html = html_string\n",
    "    lmt.save()\n",
    "    print(\"saved for \"+str(loan_type))"
   ]
  }
 ],
 "metadata": {
  "kernelspec": {
   "display_name": "Django Shell-Plus",
   "language": "python",
   "name": "django_extensions"
  },
  "language_info": {
   "codemirror_mode": {
    "name": "ipython",
    "version": 3
   },
   "file_extension": ".py",
   "mimetype": "text/x-python",
   "name": "python",
   "nbconvert_exporter": "python",
   "pygments_lexer": "ipython3",
   "version": "3.7.3"
  }
 },
 "nbformat": 4,
 "nbformat_minor": 2
}
