{
 "cells": [
  {
   "cell_type": "markdown",
   "metadata": {},
   "source": [
    "# Loan Summary Table Routine"
   ]
  },
  {
   "cell_type": "markdown",
   "metadata": {},
   "source": [
    "#### This script runs everyday and inserts summary of loans_loan table into loans_loansummary table."
   ]
  },
  {
   "cell_type": "code",
   "execution_count": 3,
   "metadata": {},
   "outputs": [],
   "source": [
    "import uuid"
   ]
  },
  {
   "cell_type": "code",
   "execution_count": 4,
   "metadata": {},
   "outputs": [
    {
     "data": {
      "text/plain": [
       "UUID('38976087-e109-4fd5-8db7-ed93311d3246')"
      ]
     },
     "execution_count": 4,
     "metadata": {},
     "output_type": "execute_result"
    }
   ],
   "source": []
  },
  {
   "cell_type": "code",
   "execution_count": 2,
   "metadata": {
    "scrolled": true
   },
   "outputs": [
    {
     "name": "stdout",
     "output_type": "stream",
     "text": [
      "working on: CAR\n"
     ]
    },
    {
     "ename": "ValueError",
     "evalue": "\"<LoanSummary: LoanSummary object (None)>\" needs to have a value for field \"id\" before this many-to-many relationship can be used.",
     "output_type": "error",
     "traceback": [
      "\u001b[1;31m---------------------------------------------------------------------------\u001b[0m",
      "\u001b[1;31mValueError\u001b[0m                                Traceback (most recent call last)",
      "\u001b[1;32m<ipython-input-2-0165a9d4bcae>\u001b[0m in \u001b[0;36m<module>\u001b[1;34m\u001b[0m\n\u001b[0;32m     30\u001b[0m             \u001b[0mtenures\u001b[0m \u001b[1;33m=\u001b[0m \u001b[0mfiltered_df\u001b[0m\u001b[1;33m.\u001b[0m\u001b[0mtenure_id\u001b[0m\u001b[1;33m.\u001b[0m\u001b[0munique\u001b[0m\u001b[1;33m(\u001b[0m\u001b[1;33m)\u001b[0m\u001b[1;33m\u001b[0m\u001b[1;33m\u001b[0m\u001b[0m\n\u001b[0;32m     31\u001b[0m             \u001b[1;32mfor\u001b[0m \u001b[0mthis_tenure\u001b[0m \u001b[1;32min\u001b[0m \u001b[0mtenures\u001b[0m\u001b[1;33m:\u001b[0m\u001b[1;33m\u001b[0m\u001b[1;33m\u001b[0m\u001b[0m\n\u001b[1;32m---> 32\u001b[1;33m                 \u001b[0mls\u001b[0m\u001b[1;33m.\u001b[0m\u001b[0mtenures\u001b[0m\u001b[1;33m.\u001b[0m\u001b[0madd\u001b[0m\u001b[1;33m(\u001b[0m\u001b[0mTenure\u001b[0m\u001b[1;33m.\u001b[0m\u001b[0mobjects\u001b[0m\u001b[1;33m.\u001b[0m\u001b[0mget\u001b[0m\u001b[1;33m(\u001b[0m\u001b[0mtenure\u001b[0m\u001b[1;33m=\u001b[0m\u001b[0mthis_tenure\u001b[0m\u001b[1;33m)\u001b[0m\u001b[1;33m)\u001b[0m\u001b[1;33m\u001b[0m\u001b[1;33m\u001b[0m\u001b[0m\n\u001b[0m\u001b[0;32m     33\u001b[0m             \u001b[0mls\u001b[0m\u001b[1;33m.\u001b[0m\u001b[0msave\u001b[0m\u001b[1;33m(\u001b[0m\u001b[1;33m)\u001b[0m\u001b[1;33m\u001b[0m\u001b[1;33m\u001b[0m\u001b[0m\n\u001b[0;32m     34\u001b[0m             \u001b[0mprint\u001b[0m\u001b[1;33m(\u001b[0m\u001b[1;34m\"saved for bank: \"\u001b[0m\u001b[1;33m+\u001b[0m\u001b[0mbank\u001b[0m\u001b[1;33m)\u001b[0m\u001b[1;33m\u001b[0m\u001b[1;33m\u001b[0m\u001b[0m\n",
      "\u001b[1;32mD:\\anaconda\\lib\\site-packages\\django\\db\\models\\fields\\related_descriptors.py\u001b[0m in \u001b[0;36m__get__\u001b[1;34m(self, instance, cls)\u001b[0m\n\u001b[0;32m    533\u001b[0m             \u001b[1;32mreturn\u001b[0m \u001b[0mself\u001b[0m\u001b[1;33m\u001b[0m\u001b[1;33m\u001b[0m\u001b[0m\n\u001b[0;32m    534\u001b[0m \u001b[1;33m\u001b[0m\u001b[0m\n\u001b[1;32m--> 535\u001b[1;33m         \u001b[1;32mreturn\u001b[0m \u001b[0mself\u001b[0m\u001b[1;33m.\u001b[0m\u001b[0mrelated_manager_cls\u001b[0m\u001b[1;33m(\u001b[0m\u001b[0minstance\u001b[0m\u001b[1;33m)\u001b[0m\u001b[1;33m\u001b[0m\u001b[1;33m\u001b[0m\u001b[0m\n\u001b[0m\u001b[0;32m    536\u001b[0m \u001b[1;33m\u001b[0m\u001b[0m\n\u001b[0;32m    537\u001b[0m     \u001b[1;32mdef\u001b[0m \u001b[0m_get_set_deprecation_msg_params\u001b[0m\u001b[1;33m(\u001b[0m\u001b[0mself\u001b[0m\u001b[1;33m)\u001b[0m\u001b[1;33m:\u001b[0m\u001b[1;33m\u001b[0m\u001b[1;33m\u001b[0m\u001b[0m\n",
      "\u001b[1;32mD:\\anaconda\\lib\\site-packages\\django\\db\\models\\fields\\related_descriptors.py\u001b[0m in \u001b[0;36m__init__\u001b[1;34m(self, instance)\u001b[0m\n\u001b[0;32m    846\u001b[0m                 raise ValueError('\"%r\" needs to have a value for field \"%s\" before '\n\u001b[0;32m    847\u001b[0m                                  \u001b[1;34m'this many-to-many relationship can be used.'\u001b[0m \u001b[1;33m%\u001b[0m\u001b[1;33m\u001b[0m\u001b[1;33m\u001b[0m\u001b[0m\n\u001b[1;32m--> 848\u001b[1;33m                                  (instance, self.pk_field_names[self.source_field_name]))\n\u001b[0m\u001b[0;32m    849\u001b[0m             \u001b[1;31m# Even if this relation is not to pk, we require still pk value.\u001b[0m\u001b[1;33m\u001b[0m\u001b[1;33m\u001b[0m\u001b[1;33m\u001b[0m\u001b[0m\n\u001b[0;32m    850\u001b[0m             \u001b[1;31m# The wish is that the instance has been already saved to DB,\u001b[0m\u001b[1;33m\u001b[0m\u001b[1;33m\u001b[0m\u001b[1;33m\u001b[0m\u001b[0m\n",
      "\u001b[1;31mValueError\u001b[0m: \"<LoanSummary: LoanSummary object (None)>\" needs to have a value for field \"id\" before this many-to-many relationship can be used."
     ]
    }
   ],
   "source": [
    "import os\n",
    "import pandas as pd\n",
    "\n",
    "os.environ[\"DJANGO_ALLOW_ASYNC_UNSAFE\"] = \"true\"\n",
    "\n",
    "loans_df = pd.DataFrame(list(Loan.objects.filter(active=True).values()))\n",
    "loan_types = loans_df.loan_type_id.unique()\n",
    "banks = loans_df.bank_id.unique()\n",
    "\n",
    "for loan_type in loan_types:\n",
    "    print(\"working on: \"+loan_type)\n",
    "    for bank in banks:\n",
    "        # try:\n",
    "        filtered_df = loans_df[(loans_df.bank_id==bank)&(loans_df.loan_type_id==loan_type)&(loans_df.is_base==False)]\n",
    "        if not filtered_df.shape[0]==0:\n",
    "            min_max_principal = filtered_df.principal_id.aggregate(['min','max'])\n",
    "            min_max_tenure = filtered_df.tenure_id.aggregate(['min','max'])\n",
    "            min_max_interest = filtered_df.interest.aggregate(['min','max'])\n",
    "            # Introduce a LoanSummary object and save to db\n",
    "            ls = LoanSummary()\n",
    "            ls.id = uuid.uuid4()\n",
    "            ls.bank = Bank.objects.get(name=bank)\n",
    "            ls.loan_type = LoanType.objects.get(loan_type=loan_type)\n",
    "            ls.min_principal = Principal.objects.get(principal=min_max_principal['min'])\n",
    "            ls.max_principal = Principal.objects.get(principal=min_max_principal['max'])\n",
    "            ls.min_tenure = Tenure.objects.get(tenure=min_max_tenure['min'])\n",
    "            ls.max_tenure = Tenure.objects.get(tenure=min_max_tenure['max'])\n",
    "            ls.min_interest = min_max_interest['min']\n",
    "            ls.max_interest = min_max_interest['max']\n",
    "            # we need to add available tenures:\n",
    "            tenures = filtered_df.tenure_id.unique()\n",
    "            for this_tenure in tenures:\n",
    "                ls.tenures.add(Tenure.objects.get(tenure=this_tenure))\n",
    "            ls.save()\n",
    "            print(\"saved for bank: \"+bank)\n",
    "        else:\n",
    "            print(\"no loan found for bank: \"+bank)\n",
    "        #except:\n",
    "        #    print(\"error in bank : \"+bank)"
   ]
  },
  {
   "cell_type": "markdown",
   "metadata": {},
   "source": [
    "### Below is Junk for now"
   ]
  },
  {
   "cell_type": "code",
   "execution_count": null,
   "metadata": {},
   "outputs": [],
   "source": [
    "banks_df = pd.DataFrame(list(Bank.objects.filter(active=True).values()))"
   ]
  },
  {
   "cell_type": "code",
   "execution_count": null,
   "metadata": {},
   "outputs": [],
   "source": [
    "loan_types = list([e['loan_type'] for e in LoanType.objects.values('loan_type')])\n",
    "bank = 'ING Bank'\n",
    "loan_type = loan_types[0]\n",
    "filtered_df = loans_df[(loans_df.bank_id==bank)&(loans_df.loan_type_id==loan_type)]"
   ]
  },
  {
   "cell_type": "code",
   "execution_count": null,
   "metadata": {},
   "outputs": [],
   "source": [
    "principals = filtered_df.principal_id.unique()\n",
    "principal = principals[0]"
   ]
  },
  {
   "cell_type": "code",
   "execution_count": null,
   "metadata": {},
   "outputs": [],
   "source": [
    "filtered_df = filtered_df[filtered_df.principal_id<=principal]\n",
    "tenures = sorted(filtered_df.tenure_id.unique())"
   ]
  },
  {
   "cell_type": "code",
   "execution_count": null,
   "metadata": {},
   "outputs": [],
   "source": [
    "for i in range(1,len(tenures)):\n",
    "    ls = LoanSummary()\n",
    "    ls.bank_name = bank\n",
    "    ls.bank_logo_path = banks_df[banks_df.name==ls.bank_name].logo_path\n",
    "    ls.loan_name = filtered_df[filtered_df.tenure_id==tenures[i]].name\n",
    "    ls.min_principal = filtered_df[filtered_df.tenure_id==tenures[i-1]].principal_id\n",
    "    ls.max_principal = filtered_df[filtered_df.tenure_id==tenures[i]].principal_id\n",
    "    ls.min_tenure = tenures[i-1]+1 # FRAGILE CODE\n",
    "    ls.max_tenure = tenures[i]\n",
    "    ls.interest = filtered_df[filtered_df.tenure_id==tenures[i]].interest\n",
    "    ls.save()"
   ]
  },
  {
   "cell_type": "code",
   "execution_count": null,
   "metadata": {},
   "outputs": [],
   "source": []
  },
  {
   "cell_type": "code",
   "execution_count": null,
   "metadata": {},
   "outputs": [],
   "source": [
    "import os\n",
    "import pandas as pd\n",
    "\n",
    "os.environ[\"DJANGO_ALLOW_ASYNC_UNSAFE\"] = \"true\""
   ]
  },
  {
   "cell_type": "code",
   "execution_count": null,
   "metadata": {},
   "outputs": [],
   "source": [
    "loan_summary = LoanSummary.objects.all().order_by('-min_interest')"
   ]
  },
  {
   "cell_type": "code",
   "execution_count": null,
   "metadata": {},
   "outputs": [],
   "source": [
    "loan_summary[0].min_principal.principal"
   ]
  },
  {
   "cell_type": "code",
   "execution_count": null,
   "metadata": {},
   "outputs": [],
   "source": [
    "loan_summary[0].min_principal.principal|as_currency_plain "
   ]
  },
  {
   "cell_type": "code",
   "execution_count": null,
   "metadata": {},
   "outputs": [],
   "source": [
    "from babel.numbers import format_currency"
   ]
  },
  {
   "cell_type": "code",
   "execution_count": null,
   "metadata": {},
   "outputs": [],
   "source": [
    "\"aaaa\".replace(',','.')"
   ]
  },
  {
   "cell_type": "code",
   "execution_count": null,
   "metadata": {
    "scrolled": true
   },
   "outputs": [],
   "source": [
    "pd.DataFrame(list(loan_summary.values()))"
   ]
  }
 ],
 "metadata": {
  "kernelspec": {
   "display_name": "Django Shell-Plus",
   "language": "python",
   "name": "django_extensions"
  },
  "language_info": {
   "codemirror_mode": {
    "name": "ipython",
    "version": 3
   },
   "file_extension": ".py",
   "mimetype": "text/x-python",
   "name": "python",
   "nbconvert_exporter": "python",
   "pygments_lexer": "ipython3",
   "version": "3.7.3"
  }
 },
 "nbformat": 4,
 "nbformat_minor": 2
}
