{
 "cells": [
  {
   "cell_type": "markdown",
   "metadata": {},
   "source": [
    "### Libraries"
   ]
  },
  {
   "cell_type": "code",
   "execution_count": 4,
   "metadata": {
    "scrolled": true
   },
   "outputs": [],
   "source": [
    "\"\"\"\n",
    "run script via:\n",
    "> python manage.py shell < scripts/py/jobs/transfer_scraped_data.py >> scripts/scrape/data/log/loan_transfer_log.txt\n",
    "\"\"\"\n",
    "import pandas as pd\n",
    "import os\n",
    "import datetime\n",
    "from unicode_tr import unicode_tr\n",
    "from unicode_tr.extras import slugify\n",
    "from django.core.exceptions import ObjectDoesNotExist\n",
    "from django.contrib import auth\n",
    "from loans.models import *\n",
    "from scraping.models import *\n",
    "\n",
    "os.environ[\"DJANGO_ALLOW_ASYNC_UNSAFE\"] = \"true\"\n",
    "loans_data_path = 'scripts/scrape/data/'+datetime.date.today().strftime('%Y%m%d')+'_loans.pkl'\n",
    "scrapelog_data_path = 'scripts/scrape/data/'+datetime.date.today().strftime('%Y%m%d')+'_scrapelog.pkl'\n",
    "alertlog_data_path = 'scripts/scrape/data/'+datetime.date.today().strftime('%Y%m%d')+'_alertlog.pkl'\n",
    "\n",
    "# loans_data_path = 'data/'+datetime.date.today().strftime('%Y%m%d')+'_loans.pkl'\n",
    "# scrapelog_data_path = 'data/'+datetime.date.today().strftime('%Y%m%d')+'_scrapelog.pkl'\n",
    "# alertlog_data_path = 'data/'+datetime.date.today().strftime('%Y%m%d')+'_alertlog.pkl'\n",
    "\n",
    "User = auth.get_user_model()"
   ]
  },
  {
   "cell_type": "markdown",
   "metadata": {},
   "source": [
    "### Functions"
   ]
  },
  {
   "cell_type": "code",
   "execution_count": 59,
   "metadata": {},
   "outputs": [],
   "source": [
    "def save_loan(row):\n",
    "    loan = Loan()\n",
    "    try:\n",
    "        loan = Loan.objects.get(name=unicode_tr(row.campaign).title(),tenure=Tenure.objects.get(tenure=row.tenure),principal=Principal.objects.get(principal=row.principal))\n",
    "        print(str(row.name)+\": loan object exists with id=\"+str(loan.id)+\". updating.\")\n",
    "        if not loan.interest == row.interest:\n",
    "            loan.interest = row.interest\n",
    "            loan.save()\n",
    "        else:\n",
    "            print(str(row.name)+\": interest is still the same. passing update.\")\n",
    "    except ObjectDoesNotExist:\n",
    "        print(str(row.name)+\": loan object for name='\"+unicode_tr(row.campaign).title()+\"', tenure=\"+str(Tenure.objects.get(tenure=row.tenure))+\", principal=\"+str(Principal.objects.get(principal=row.principal))+\" does not exist. inserting.\")\n",
    "        try:\n",
    "            loan.name        = unicode_tr(row.campaign).title()\n",
    "            loan.principal   = Principal.objects.get(principal=row.principal)\n",
    "            loan.tenure      = Tenure.objects.get(tenure=row.tenure)\n",
    "            loan.loan_type   = LoanType.objects.get(loan_type=row.loan_type)\n",
    "            loan.bank        = Bank.objects.get(id=row.bank)\n",
    "            loan.slug        = slugify(str(loan.bank)+\"-\"+row.campaign)\n",
    "            loan.interest    = row.interest\n",
    "            loan.is_base     = False\n",
    "            loan.upd_user    = User.objects.get(username='admin')\n",
    "            loan.upd_program = Program.objects.get(program='python@transfer_scraped_data.py')\n",
    "            loan.save()\n",
    "            print(str(row.name)+\": loan saved\")\n",
    "        except Exception as e:\n",
    "            print(str(row.name)+\": failed\")\n",
    "            print(str(row.name)+\": \"+str(e))\n",
    "            \n",
    "def save_scrapelog(row):\n",
    "    scrapelog = ScrapeLog()\n",
    "    try:\n",
    "        scrapelog.bank        = Bank.objects.get(id=row.bank)\n",
    "        scrapelog.loan_type   = LoanType.objects.get(loan_type=row['product'])\n",
    "        scrapelog.result      = Result.objects.get(result=row.scrape_status)\n",
    "        scrapelog.upd_user    = User.objects.get(username='admin')\n",
    "        scrapelog.upd_program = Program.objects.get(program='python@transfer_scraped_data.py')\n",
    "        scrapelog.save()\n",
    "        print(str(row.name)+\": scrapelog saved\")\n",
    "    except Exception as e:\n",
    "        print(str(row.name)+\": failed\")\n",
    "        print(str(row.name)+\": \"+str(e))\n",
    "        \n",
    "def save_alertlog(row):\n",
    "    alertlog = AlertLog()\n",
    "    try:\n",
    "        alertlog.alert_type  = AlertType.objects.get(alert_type=row.alert_id)\n",
    "        alertlog.bank        = Bank.objects.get(id=row.bank)\n",
    "        alertlog.loan_type   = LoanType.objects.get(loan_type=row['product'])\n",
    "        alertlog.upd_user    = User.objects.get(username='admin')\n",
    "        alertlog.upd_program = Program.objects.get(program='python@transfer_scraped_data.py')\n",
    "        alertlog.save()\n",
    "        print(str(row.name)+\": alertlog saved\")\n",
    "    except Exception as e:\n",
    "        print(str(row.name)+\": failed\")\n",
    "        print(str(row.name)+\": \"+str(e))\n",
    "\n",
    "def summarize_loans(df):\n",
    "    print(\"> shape = \"+str(df.shape))\n",
    "    print(\"> unique bank # = \"+str(len(df.bank.unique())))"
   ]
  },
  {
   "cell_type": "markdown",
   "metadata": {},
   "source": [
    "### Import Loans Data"
   ]
  },
  {
   "cell_type": "code",
   "execution_count": 14,
   "metadata": {},
   "outputs": [],
   "source": [
    "s_loans = pd.read_pickle(loans_data_path)\n",
    "s_scrapelog = pd.read_pickle(scrapelog_data_path)\n",
    "s_alertlog = pd.read_pickle(alertlog_data_path)\n",
    "# DELETE LATER\n",
    "s_loans.bank.replace({1:'5fcfd4fa-b615-11ea-b6e6-d0c63746edcc',2:'5c43ee94-b615-11ea-bdde-d0c63746edcc'},inplace=True)\n",
    "s_loans['loan_type'] = 'CAR'\n",
    "\n",
    "\n",
    "s_scrapelog.bank.replace({1:'5fcfd4fa-b615-11ea-b6e6-d0c63746edcc',2:'5c43ee94-b615-11ea-bdde-d0c63746edcc'},inplace=True)\n",
    "s_scrapelog['product'].replace({1:'GPL',2:'MOR',3:'CAR',4:'CA2'}, inplace=True)\n",
    "\n",
    "s_alertlog.bank.replace({1:'5fcfd4fa-b615-11ea-b6e6-d0c63746edcc',2:'5c43ee94-b615-11ea-bdde-d0c63746edcc'},inplace=True)\n",
    "s_alertlog['product'].replace({1:'GPL',2:'MOR',3:'CAR',4:'CA2'}, inplace=True)"
   ]
  },
  {
   "cell_type": "markdown",
   "metadata": {},
   "source": [
    "### Save Loans"
   ]
  },
  {
   "cell_type": "code",
   "execution_count": 63,
   "metadata": {},
   "outputs": [
    {
     "name": "stdout",
     "output_type": "stream",
     "text": [
      "========================================\n",
      "> date: 2020-07-16\n",
      "> shape = (20, 7)\n",
      "> unique bank # = 2\n",
      "> loans data insertion started.\n",
      "0: loan object exists with id=a4fabe36-c734-11ea-b073-d0c63746edcc. updating.\n",
      "0: interest is still the same. passing update.\n",
      "1: loan object exists with id=a4fc4852-c734-11ea-b4e9-d0c63746edcc. updating.\n",
      "1: interest is still the same. passing update.\n",
      "2: loan object exists with id=a4fd79c0-c734-11ea-8677-d0c63746edcc. updating.\n",
      "2: interest is still the same. passing update.\n",
      "3: loan object exists with id=a4feb194-c734-11ea-b323-d0c63746edcc. updating.\n",
      "3: interest is still the same. passing update.\n",
      "4: loan object exists with id=a78ea652-c73d-11ea-b030-d0c63746edcc. updating.\n",
      "4: interest is still the same. passing update.\n",
      "5: loan object exists with id=a4f67a62-c734-11ea-a1f5-d0c63746edcc. updating.\n",
      "5: interest is still the same. passing update.\n",
      "6: loan object exists with id=a4f7d828-c734-11ea-9ef2-d0c63746edcc. updating.\n",
      "6: interest is still the same. passing update.\n",
      "7: loan object exists with id=a4f969de-c734-11ea-93fc-d0c63746edcc. updating.\n",
      "7: interest is still the same. passing update.\n",
      "8: loan object exists with id=a509cdc2-c734-11ea-8eb6-d0c63746edcc. updating.\n",
      "8: interest is still the same. passing update.\n",
      "9: loan object exists with id=a50b3762-c734-11ea-bdae-d0c63746edcc. updating.\n",
      "9: interest is still the same. passing update.\n",
      "10: loan object exists with id=a50c6d48-c734-11ea-bf34-d0c63746edcc. updating.\n",
      "10: interest is still the same. passing update.\n",
      "11: loan object exists with id=a50db146-c734-11ea-b134-d0c63746edcc. updating.\n",
      "11: interest is still the same. passing update.\n",
      "12: loan object exists with id=a4ffdae2-c734-11ea-a2c7-d0c63746edcc. updating.\n",
      "12: interest is still the same. passing update.\n",
      "13: loan object exists with id=a501155c-c734-11ea-baa0-d0c63746edcc. updating.\n",
      "13: interest is still the same. passing update.\n",
      "14: loan object exists with id=a5024ff6-c734-11ea-9836-d0c63746edcc. updating.\n",
      "14: interest is still the same. passing update.\n",
      "15: loan object exists with id=a5039014-c734-11ea-ba23-d0c63746edcc. updating.\n",
      "15: interest is still the same. passing update.\n",
      "16: loan object exists with id=bc42a3e4-c743-11ea-806f-d0c63746edcc. updating.\n",
      "16: interest is still the same. passing update.\n",
      "17: loan object exists with id=bc46be18-c743-11ea-b24f-d0c63746edcc. updating.\n",
      "17: interest is still the same. passing update.\n",
      "18: loan object exists with id=bc48d212-c743-11ea-a444-d0c63746edcc. updating.\n",
      "18: interest is still the same. passing update.\n",
      "19: loan object exists with id=bc4ad440-c743-11ea-99fe-d0c63746edcc. updating.\n",
      "19: interest is still the same. passing update.\n",
      "> loans data insertion finished.\n"
     ]
    }
   ],
   "source": [
    "print(\"=\"*40)\n",
    "print(\"> date: \"+datetime.date.today().strftime('%Y-%m-%d'))\n",
    "summarize_loans(s_loans)\n",
    "print(\"> loans data insertion started.\")\n",
    "for row in s_loans.index:\n",
    "    save_loan(s_loans.loc[row])\n",
    "print(\"> loans data insertion finished.\")\n",
    "print(\"> scrapelog insertion started.\")\n",
    "for row in s_scrapelog.index:\n",
    "    save_scrapelog(s_scrapelog.loc[row])\n",
    "print(\"> scrapelog insertion finished.\")\n",
    "print(\"> alertlog insertion started.\")\n",
    "for row in s_alertlog.index:\n",
    "    save_alertlog(s_alertlog.loc[row])\n",
    "print(\"> alertlog insertion finished.\")"
   ]
  }
 ],
 "metadata": {
  "kernelspec": {
   "display_name": "Django Shell-Plus",
   "language": "python",
   "name": "django_extensions"
  },
  "language_info": {
   "codemirror_mode": {
    "name": "ipython",
    "version": 3
   },
   "file_extension": ".py",
   "mimetype": "text/x-python",
   "name": "python",
   "nbconvert_exporter": "python",
   "pygments_lexer": "ipython3",
   "version": "3.7.3"
  }
 },
 "nbformat": 4,
 "nbformat_minor": 2
}
