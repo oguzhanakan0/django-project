{
 "cells": [
  {
   "cell_type": "markdown",
   "metadata": {},
   "source": [
    "# Loan Summary Table Routine"
   ]
  },
  {
   "cell_type": "markdown",
   "metadata": {},
   "source": [
    "#### This script runs everyday and inserts summary of loans_loan table into loans_loansummary table."
   ]
  },
  {
   "cell_type": "code",
   "execution_count": 1,
   "metadata": {
    "scrolled": true
   },
   "outputs": [
    {
     "name": "stdout",
     "output_type": "stream",
     "text": [
      "working on: CAR\n",
      "saved for bank: Garanti Bankası\n",
      "no loan found for bank: ING Bank\n",
      "no loan found for bank: İş Bankası\n",
      "saved for bank: Finansbank\n",
      "saved for bank: Yapı ve Kredi Bankası\n",
      "working on: GPL\n",
      "saved for bank: Garanti Bankası\n",
      "saved for bank: ING Bank\n",
      "saved for bank: İş Bankası\n",
      "saved for bank: Finansbank\n",
      "no loan found for bank: Yapı ve Kredi Bankası\n",
      "working on: CA2\n",
      "no loan found for bank: Garanti Bankası\n",
      "saved for bank: ING Bank\n",
      "no loan found for bank: İş Bankası\n",
      "no loan found for bank: Finansbank\n",
      "no loan found for bank: Yapı ve Kredi Bankası\n",
      "working on: MOR\n",
      "no loan found for bank: Garanti Bankası\n",
      "no loan found for bank: ING Bank\n",
      "saved for bank: İş Bankası\n",
      "no loan found for bank: Finansbank\n",
      "no loan found for bank: Yapı ve Kredi Bankası\n"
     ]
    }
   ],
   "source": [
    "import os\n",
    "import pandas as pd\n",
    "\n",
    "os.environ[\"DJANGO_ALLOW_ASYNC_UNSAFE\"] = \"true\"\n",
    "\n",
    "loans_df = pd.DataFrame(list(Loan.objects.filter(active=True).values()))\n",
    "loan_types = loans_df.loan_type_id.unique()\n",
    "banks = loans_df.bank_id.unique()\n",
    "\n",
    "for loan_type in loan_types:\n",
    "    print(\"working on: \"+loan_type)\n",
    "    for bank in banks:\n",
    "        # try:\n",
    "        filtered_df = loans_df[(loans_df.bank_id==bank)&(loans_df.loan_type_id==loan_type)&(loans_df.is_base==False)]\n",
    "        if not filtered_df.shape[0]==0:\n",
    "            min_max_principal = filtered_df.principal_id.aggregate(['min','max'])\n",
    "            min_max_tenure = filtered_df.tenure_id.aggregate(['min','max'])\n",
    "            min_max_interest = filtered_df.interest.aggregate(['min','max'])\n",
    "            # Introduce a LoanSummary object and save to db\n",
    "            ls = LoanSummary()\n",
    "            ls.bank = Bank.objects.get(name=bank)\n",
    "            ls.loan_type = LoanType.objects.get(loan_type=loan_type)\n",
    "            ls.min_principal = Principal.objects.get(principal=min_max_principal['min'])\n",
    "            ls.max_principal = Principal.objects.get(principal=min_max_principal['max'])\n",
    "            ls.min_tenure = Tenure.objects.get(tenure=min_max_tenure['min'])\n",
    "            ls.max_tenure = Tenure.objects.get(tenure=min_max_tenure['max'])\n",
    "            ls.min_interest = min_max_interest['min']\n",
    "            ls.max_interest = min_max_interest['max']\n",
    "            # we need to add available tenures:\n",
    "            ls.save()\n",
    "            tenures = filtered_df.tenure_id.unique()\n",
    "            for this_tenure in tenures:\n",
    "                ls.tenures.add(Tenure.objects.get(tenure=this_tenure))\n",
    "            ls.save()\n",
    "            print(\"saved for bank: \"+bank)\n",
    "        else:\n",
    "            print(\"no loan found for bank: \"+bank)\n",
    "        #except:\n",
    "        #    print(\"error in bank : \"+bank)"
   ]
  },
  {
   "cell_type": "markdown",
   "metadata": {},
   "source": [
    "### Below is Junk for now"
   ]
  },
  {
   "cell_type": "code",
   "execution_count": null,
   "metadata": {},
   "outputs": [],
   "source": [
    "banks_df = pd.DataFrame(list(Bank.objects.filter(active=True).values()))"
   ]
  },
  {
   "cell_type": "code",
   "execution_count": null,
   "metadata": {},
   "outputs": [],
   "source": [
    "loan_types = list([e['loan_type'] for e in LoanType.objects.values('loan_type')])\n",
    "bank = 'ING Bank'\n",
    "loan_type = loan_types[0]\n",
    "filtered_df = loans_df[(loans_df.bank_id==bank)&(loans_df.loan_type_id==loan_type)]"
   ]
  },
  {
   "cell_type": "code",
   "execution_count": null,
   "metadata": {},
   "outputs": [],
   "source": [
    "principals = filtered_df.principal_id.unique()\n",
    "principal = principals[0]"
   ]
  },
  {
   "cell_type": "code",
   "execution_count": null,
   "metadata": {},
   "outputs": [],
   "source": [
    "filtered_df = filtered_df[filtered_df.principal_id<=principal]\n",
    "tenures = sorted(filtered_df.tenure_id.unique())"
   ]
  },
  {
   "cell_type": "code",
   "execution_count": null,
   "metadata": {},
   "outputs": [],
   "source": [
    "for i in range(1,len(tenures)):\n",
    "    ls = LoanSummary()\n",
    "    ls.bank_name = bank\n",
    "    ls.bank_logo_path = banks_df[banks_df.name==ls.bank_name].logo_path\n",
    "    ls.loan_name = filtered_df[filtered_df.tenure_id==tenures[i]].name\n",
    "    ls.min_principal = filtered_df[filtered_df.tenure_id==tenures[i-1]].principal_id\n",
    "    ls.max_principal = filtered_df[filtered_df.tenure_id==tenures[i]].principal_id\n",
    "    ls.min_tenure = tenures[i-1]+1 # FRAGILE CODE\n",
    "    ls.max_tenure = tenures[i]\n",
    "    ls.interest = filtered_df[filtered_df.tenure_id==tenures[i]].interest\n",
    "    ls.save()"
   ]
  },
  {
   "cell_type": "code",
   "execution_count": null,
   "metadata": {},
   "outputs": [],
   "source": []
  },
  {
   "cell_type": "code",
   "execution_count": null,
   "metadata": {},
   "outputs": [],
   "source": [
    "import os\n",
    "import pandas as pd\n",
    "\n",
    "os.environ[\"DJANGO_ALLOW_ASYNC_UNSAFE\"] = \"true\""
   ]
  },
  {
   "cell_type": "code",
   "execution_count": null,
   "metadata": {},
   "outputs": [],
   "source": [
    "loan_summary = LoanSummary.objects.all().order_by('-min_interest')"
   ]
  },
  {
   "cell_type": "code",
   "execution_count": null,
   "metadata": {},
   "outputs": [],
   "source": [
    "loan_summary[0].min_principal.principal"
   ]
  },
  {
   "cell_type": "code",
   "execution_count": null,
   "metadata": {},
   "outputs": [],
   "source": [
    "loan_summary[0].min_principal.principal|as_currency_plain "
   ]
  },
  {
   "cell_type": "code",
   "execution_count": null,
   "metadata": {},
   "outputs": [],
   "source": [
    "from babel.numbers import format_currency"
   ]
  },
  {
   "cell_type": "code",
   "execution_count": null,
   "metadata": {},
   "outputs": [],
   "source": [
    "\"aaaa\".replace(',','.')"
   ]
  },
  {
   "cell_type": "code",
   "execution_count": null,
   "metadata": {
    "scrolled": true
   },
   "outputs": [],
   "source": [
    "pd.DataFrame(list(loan_summary.values()))"
   ]
  },
  {
   "cell_type": "code",
   "execution_count": null,
   "metadata": {},
   "outputs": [],
   "source": [
    "loan_summary = LoanSummary.objects.all().order_by('-min_interest')"
   ]
  },
  {
   "cell_type": "code",
   "execution_count": null,
   "metadata": {},
   "outputs": [],
   "source": [
    "def sort_tenures_list(tenures):\n",
    "    "
   ]
  },
  {
   "cell_type": "code",
   "execution_count": null,
   "metadata": {},
   "outputs": [],
   "source": [
    "dict(zip([e.id for e in loan_summary],[list(e.tenures.all().order_by('tenure')) for e in loan_summary]))"
   ]
  }
 ],
 "metadata": {
  "kernelspec": {
   "display_name": "Django Shell-Plus",
   "language": "python",
   "name": "django_extensions"
  },
  "language_info": {
   "codemirror_mode": {
    "name": "ipython",
    "version": 3
   },
   "file_extension": ".py",
   "mimetype": "text/x-python",
   "name": "python",
   "nbconvert_exporter": "python",
   "pygments_lexer": "ipython3",
   "version": "3.7.3"
  }
 },
 "nbformat": 4,
 "nbformat_minor": 2
}
